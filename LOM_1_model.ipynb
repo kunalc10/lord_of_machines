{
 "cells": [
  {
   "cell_type": "code",
   "execution_count": null,
   "metadata": {
    "collapsed": true
   },
   "outputs": [],
   "source": [
    "import pandas as pd\n",
    "import numpy as np\n",
    "import matplotlib.pyplot as plt\n",
    "%matplotlib notebook"
   ]
  },
  {
   "cell_type": "code",
   "execution_count": null,
   "metadata": {
    "collapsed": true
   },
   "outputs": [],
   "source": [
    "path = '/home/kunal/Downloads/lord_of_machines/'\n",
    "train = pd.read_csv(path + 'train.csv')\n",
    "test = pd.read_csv(path + 'test.csv')\n",
    "#campaign = pd.read_csv(path +'campaign_data.csv')"
   ]
  },
  {
   "cell_type": "code",
   "execution_count": null,
   "metadata": {
    "collapsed": true
   },
   "outputs": [],
   "source": [
    "train_input = pd.read_csv(path + 'impact_encoded_train.csv')\n",
    "test_input = pd.read_csv(path + 'impact_encoded_test.csv')"
   ]
  },
  {
   "cell_type": "code",
   "execution_count": null,
   "metadata": {
    "collapsed": true
   },
   "outputs": [],
   "source": [
    "user_features  = pd.read_csv(path + 'user_features.csv')"
   ]
  },
  {
   "cell_type": "markdown",
   "metadata": {},
   "source": [
    "## Modelling part"
   ]
  },
  {
   "cell_type": "code",
   "execution_count": null,
   "metadata": {
    "collapsed": true
   },
   "outputs": [],
   "source": [
    "from sklearn.decomposition import PCA\n",
    "pca = PCA(40,random_state = 10)\n",
    "user_features_matrix = pca.fit_transform(user_features.iloc[:,1:])"
   ]
  },
  {
   "cell_type": "code",
   "execution_count": null,
   "metadata": {
    "collapsed": true
   },
   "outputs": [],
   "source": [
    "user_features_matrix = pd.DataFrame(user_features_matrix)\n",
    "user_features_matrix['user_id'] = user_features['user_id']\n",
    "train_input = train_input.merge(user_features_matrix,on = 'user_id',how = 'left')\n"
   ]
  },
  {
   "cell_type": "code",
   "execution_count": null,
   "metadata": {
    "collapsed": true
   },
   "outputs": [],
   "source": [
    "#pca2 = PCA(30,random_state = 10)\n",
    "#cluster_feature = pca2.fit_transform(campaign_features.iloc[:,1:])"
   ]
  },
  {
   "cell_type": "code",
   "execution_count": null,
   "metadata": {
    "collapsed": true
   },
   "outputs": [],
   "source": [
    "#cluster_feature = pd.DataFrame(cluster_feature)\n",
    "#cluster_feature['campaign_id'] = campaign['campaign_id']"
   ]
  },
  {
   "cell_type": "code",
   "execution_count": null,
   "metadata": {
    "collapsed": true
   },
   "outputs": [],
   "source": [
    "#train_input['campaign_id'] = train['campaign_id']\n",
    "#train_input = train_input.merge(cluster_feature,on = 'campaign_id',how = 'left')"
   ]
  },
  {
   "cell_type": "code",
   "execution_count": null,
   "metadata": {
    "collapsed": true
   },
   "outputs": [],
   "source": [
    "test_input = test_input.merge(user_features_matrix,on = 'user_id',how = 'left')\n",
    "#test_input['campaign_id'] = test['campaign_id']\n",
    "#test_input = test_input.merge(cluster_feature,on = 'campaign_id',how = 'left')"
   ]
  },
  {
   "cell_type": "code",
   "execution_count": null,
   "metadata": {
    "collapsed": true
   },
   "outputs": [],
   "source": [
    "#x = encoded_features(train_input,train_input)\n",
    "#y = encoded_features(df = train_input,df_new=test_input)\n",
    "x = train_input.copy()\n",
    "y = test_input.copy()\n",
    "count_feature = pd.concat([train['user_id'],test['user_id']])\n",
    "count_feature = count_feature.value_counts()\n",
    "x['counts'] = x['user_id'].map(count_feature)\n",
    "y['counts'] = y['user_id'].map(count_feature)\n",
    "x = x.drop(['user_id','is_click','is_open','id','campaign_id','communication_type'],axis = 1)\n",
    "y = y.drop(['user_id','id','campaign_id','communication_type'],axis = 1)\n",
    "#x['total_open_percentage'] = x['total_open']/x['counts']\n",
    "#y['total_open_percentage'] = y['total_open']/y['counts']"
   ]
  },
  {
   "cell_type": "code",
   "execution_count": null,
   "metadata": {
    "collapsed": true
   },
   "outputs": [],
   "source": [
    "#x.drop('Unnamed: 0',axis = 1,inplace=True)\n",
    "#y.drop('Unnamed: 0',axis = 1,inplace=True)\n",
    "print(x.shape)\n",
    "print(y.shape)"
   ]
  },
  {
   "cell_type": "code",
   "execution_count": null,
   "metadata": {
    "collapsed": true
   },
   "outputs": [],
   "source": [
    "print(train_input.shape)\n",
    "print(test_input.shape)"
   ]
  },
  {
   "cell_type": "code",
   "execution_count": null,
   "metadata": {
    "collapsed": true
   },
   "outputs": [],
   "source": [
    "### Check the columns in X and Y\n",
    "### They should be same and id variables should not be present\n",
    "print(x.columns)\n",
    "print('*-'*50)\n",
    "print(y.columns)"
   ]
  },
  {
   "cell_type": "code",
   "execution_count": null,
   "metadata": {
    "collapsed": true
   },
   "outputs": [],
   "source": [
    "from xgboost import XGBClassifier\n",
    "from catboost import CatBoostClassifier\n",
    "from sklearn.neighbors import KNeighborsClassifier\n",
    "from sklearn.ensemble import RandomForestClassifier\n",
    "from sklearn.ensemble import ExtraTreesClassifier\n",
    "from sklearn.linear_model import LogisticRegression\n",
    "\n",
    "xg = XGBClassifier(n_estimators = 600,max_depth = 6,gamma = 10)\n",
    "#cb = CatBoostClassifier()\n",
    "#knn = KNeighborsClassifier()\n",
    "#rf = RandomForestClassifier()\n",
    "#et = ExtraTreesClassifier()\n",
    "#lr = LogisticRegression()"
   ]
  },
  {
   "cell_type": "code",
   "execution_count": null,
   "metadata": {
    "collapsed": true
   },
   "outputs": [],
   "source": [
    "### Choose your algo and use fit method (replace classifier by the name of your algo constructor)\n",
    "xg.fit(x,train['is_click'])\n"
   ]
  },
  {
   "cell_type": "code",
   "execution_count": null,
   "metadata": {
    "collapsed": true
   },
   "outputs": [],
   "source": [
    "predictions = xg.predict_proba(y)"
   ]
  },
  {
   "cell_type": "code",
   "execution_count": null,
   "metadata": {
    "collapsed": true
   },
   "outputs": [],
   "source": [
    "sample = pd.read_csv(path + 'sample.csv')"
   ]
  },
  {
   "cell_type": "code",
   "execution_count": null,
   "metadata": {
    "collapsed": true
   },
   "outputs": [],
   "source": [
    "name_of_submission_file = 'final_sub'    # select name of file\n",
    "sample['is_click'] = predictions[:,1]\n",
    "sample.to_csv(path + '{}.csv'.format(name_of_submission_file), index=False)"
   ]
  },
  {
   "cell_type": "code",
   "execution_count": null,
   "metadata": {
    "collapsed": true
   },
   "outputs": [],
   "source": []
  },
  {
   "cell_type": "code",
   "execution_count": null,
   "metadata": {
    "collapsed": true
   },
   "outputs": [],
   "source": []
  }
 ],
 "metadata": {
  "kernelspec": {
   "display_name": "Python 3",
   "language": "python",
   "name": "python3"
  },
  "language_info": {
   "codemirror_mode": {
    "name": "ipython",
    "version": 3
   },
   "file_extension": ".py",
   "mimetype": "text/x-python",
   "name": "python",
   "nbconvert_exporter": "python",
   "pygments_lexer": "ipython3",
   "version": "3.6.0"
  }
 },
 "nbformat": 4,
 "nbformat_minor": 2
}
